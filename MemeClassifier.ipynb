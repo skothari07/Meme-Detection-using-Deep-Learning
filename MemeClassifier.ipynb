{
  "nbformat": 4,
  "nbformat_minor": 0,
  "metadata": {
    "colab": {
      "name": "MemeClassifier.ipynb",
      "provenance": [],
      "collapsed_sections": [],
      "authorship_tag": "ABX9TyMhXU3nDyb7OXZ/Fi1hmHy+",
      "include_colab_link": true
    },
    "kernelspec": {
      "name": "python3",
      "display_name": "Python 3"
    },
    "accelerator": "GPU"
  },
  "cells": [
    {
      "cell_type": "markdown",
      "metadata": {
        "id": "view-in-github",
        "colab_type": "text"
      },
      "source": [
        "<a href=\"https://colab.research.google.com/github/skothari07/MemeClassifier/blob/master/MemeClassifier.ipynb\" target=\"_parent\"><img src=\"https://colab.research.google.com/assets/colab-badge.svg\" alt=\"Open In Colab\"/></a>"
      ]
    },
    {
      "cell_type": "markdown",
      "metadata": {
        "id": "uW31QFuV1pvJ",
        "colab_type": "text"
      },
      "source": [
        "# ***MEME VS NON-MEME CLASSIFIER***"
      ]
    },
    {
      "cell_type": "markdown",
      "metadata": {
        "id": "HO-tZEQT151k",
        "colab_type": "text"
      },
      "source": [
        "*Identifies if a image is meme or not using deep learning(CNN).*\n"
      ]
    },
    {
      "cell_type": "markdown",
      "metadata": {
        "id": "3OehWs9v2abA",
        "colab_type": "text"
      },
      "source": [
        "***Step 1: Importing dependencies***"
      ]
    },
    {
      "cell_type": "code",
      "metadata": {
        "id": "htCD-mv62lun",
        "colab_type": "code",
        "colab": {
          "base_uri": "https://localhost:8080/",
          "height": 34
        },
        "outputId": "f60a4b21-a2ac-4e1f-914b-eac5a6423464"
      },
      "source": [
        "import numpy as np\n",
        "import pandas as pd\n",
        "%matplotlib inline\n",
        "import matplotlib.pyplot as plt\n",
        "\n",
        "import cv2\n",
        "from PIL import Image\n",
        "\n",
        "import os\n",
        "from os.path import exists, join\n",
        "import shutil\n",
        "import random\n",
        "\n",
        "from tensorflow.keras.models import Sequential\n",
        "from tensorflow.keras import optimizers\n",
        "from tensorflow.keras import layers\n",
        "from tensorflow.keras.optimizers import Adam\n",
        "from tensorflow.keras.losses import binary_crossentropy\n",
        "from tensorflow.keras.preprocessing.image import ImageDataGenerator, array_to_img, img_to_array, load_img\n",
        "from tensorflow.keras.layers import Dense, Conv2D, Embedding, Activation, MaxPooling2D, Dropout\n",
        "from tensorflow.keras.layers import Flatten, ZeroPadding2D, BatchNormalization\n",
        "from tensorflow.keras.applications import mobilenet_v2\n",
        "from tensorflow.keras.preprocessing import image\n",
        "from tensorflow.keras.callbacks import EarlyStopping\n",
        "import tensorflow as tf\n",
        "\n",
        "from keras.callbacks import TensorBoard,ModelCheckpoint\n",
        "# Load the TensorBoard notebook extension\n",
        "%reload_ext tensorboard"
      ],
      "execution_count": 1,
      "outputs": [
        {
          "output_type": "stream",
          "text": [
            "Using TensorFlow backend.\n"
          ],
          "name": "stderr"
        }
      ]
    },
    {
      "cell_type": "markdown",
      "metadata": {
        "id": "aXvkPLOUCG32",
        "colab_type": "text"
      },
      "source": [
        "***Step 2: Mounting our google drive to get data***\n"
      ]
    },
    {
      "cell_type": "code",
      "metadata": {
        "id": "vT2DhAvX3WXV",
        "colab_type": "code",
        "colab": {
          "base_uri": "https://localhost:8080/",
          "height": 34
        },
        "outputId": "6db21dfc-c85c-49aa-88e4-e06732ce98c9"
      },
      "source": [
        "import zipfile\n",
        "from google.colab import drive\n",
        "drive.mount('/content/drive', force_remount= True)\n",
        "\n",
        "#used to unzip our folders containing memes and non memes\n",
        "'''zip_ref = zipfile.ZipFile(\"/content/drive/My Drive/MemeClassifier/Data/memes.zip\", 'r')\n",
        "zip_ref.extractall(\"/content/drive/My Drive/MemeClassifier/Data\")\n",
        "zip_ref.close()\n",
        "zip_ref1 = zipfile.ZipFile(\"/content/drive/My Drive/MemeClassifier/Data/nonmemenew.zip\", 'r')\n",
        "zip_ref1.extractall(\"/content/drive/My Drive/MemeClassifier/Data\")\n",
        "zip_ref1.close()'''\n",
        "#changing directory to working directory\n",
        "os.chdir(\"/content/drive/My Drive/MemeClassifier/Data\")"
      ],
      "execution_count": 2,
      "outputs": [
        {
          "output_type": "stream",
          "text": [
            "Mounted at /content/drive\n"
          ],
          "name": "stdout"
        }
      ]
    },
    {
      "cell_type": "markdown",
      "metadata": {
        "id": "nBETReQWDZ5n",
        "colab_type": "text"
      },
      "source": [
        "**Step 3: Data Splitting into train,test,validate**"
      ]
    },
    {
      "cell_type": "code",
      "metadata": {
        "id": "fD_E1dN6q98R",
        "colab_type": "code",
        "colab": {}
      },
      "source": [
        "#creating directories : train , test , validate\n",
        "#meme_dir = '/content/drive/My Drive/MemeClassifier/Data/memes'\n",
        "#notmeme_dir = '/content/drive/My Drive/MemeClassifier/Data/notmemes'\n",
        "base_dir = '/content/drive/My Drive/MemeClassifier/Data'\n",
        "if not os.path.exists(base_dir):\n",
        "    os.mkdir(base_dir)\n",
        "\n",
        "# Create directories\n",
        "train_dir = os.path.join(base_dir,'train')\n",
        "if not os.path.exists(train_dir):\n",
        "    os.mkdir(train_dir)\n",
        "validation_dir = os.path.join(base_dir,'validation')\n",
        "if not os.path.exists(validation_dir):\n",
        "    os.mkdir(validation_dir)\n",
        "test_dir = os.path.join(base_dir,'test')\n",
        "if not os.path.exists(test_dir):\n",
        "    os.mkdir(test_dir)\n",
        "\n",
        "train_memes_dir = os.path.join(train_dir,'meme')\n",
        "if not os.path.exists(train_memes_dir):\n",
        "    os.mkdir(train_memes_dir)\n",
        "\n",
        "train_notmemes_dir = os.path.join(train_dir,'notmeme')\n",
        "if not os.path.exists(train_notmemes_dir):\n",
        "    os.mkdir(train_notmemes_dir)\n",
        "\n",
        "validation_memes_dir = os.path.join(validation_dir,'meme')\n",
        "if not os.path.exists(validation_memes_dir):\n",
        "    os.mkdir(validation_memes_dir)\n",
        "\n",
        "validation_notmemes_dir = os.path.join(validation_dir, 'notmeme')\n",
        "if not os.path.exists(validation_notmemes_dir):\n",
        "    os.mkdir(validation_notmemes_dir)\n",
        "\n",
        "test_memes_dir = os.path.join(test_dir, 'meme')     \n",
        "if not os.path.exists(test_memes_dir):\n",
        "    os.mkdir(test_memes_dir)\n",
        "\n",
        "test_notmemes_dir = os.path.join(test_dir, 'notmeme')\n",
        "if not os.path.exists(test_notmemes_dir):\n",
        "    os.mkdir(test_notmemes_dir)\n",
        "\n",
        "#split data\n",
        "#this is used if we have data in .csv file . Not used in this case\n",
        "'''\n",
        "#Meme \n",
        "meme_files = [array of meme images]\n",
        "meme_files.sort()  # make sure that the filenames have a fixed order before shuffling\n",
        "random.seed(230)\n",
        "random.shuffle(meme_files) # shuffles the ordering of filenames (deterministic given the chosen seed)\n",
        "\n",
        "split_1 = int(0.8 * len(meme_files))\n",
        "split_2 = int(0.9 * len(meme_files))\n",
        "train_meme_files = meme_files[:split_1]\n",
        "validate_meme_files = meme_files[split_1:split_2]\n",
        "test_meme_files = meme_files[split_2:]\n",
        "\n",
        "#Not-meme\n",
        "notmeme_files = [array of non meme images]\n",
        "notmeme_files.sort()  # make sure that the filenames have a fixed order before shuffling\n",
        "random.seed(230)\n",
        "random.shuffle(notmeme_files) # shuffles the ordering of filenames (deterministic given the chosen seed)\n",
        "\n",
        "split_12 = int(0.8 * len(notmeme_files))\n",
        "split_22 = int(0.9 * len(nonmeme_files))\n",
        "train_nonmeme_files = nonmeme_files[:split_12]\n",
        "validate_nonmeme_files = nonmeme_files[split_12:split_22]\n",
        "test_nonmeme_files = nonmeme_files[split_22:]\n",
        "'''"
      ],
      "execution_count": null,
      "outputs": []
    },
    {
      "cell_type": "markdown",
      "metadata": {
        "id": "f4L8nqlL5ZdG",
        "colab_type": "text"
      },
      "source": [
        "***Step 4: Preparing data (Data pre-processing)***"
      ]
    },
    {
      "cell_type": "code",
      "metadata": {
        "colab_type": "code",
        "id": "gxhxSQ1nubPX",
        "colab": {
          "base_uri": "https://localhost:8080/",
          "height": 68
        },
        "outputId": "c914bf31-9041-4f11-bd97-b5015bfa2926"
      },
      "source": [
        "# create data generators\n",
        "train_datagen = ImageDataGenerator(rescale=1.0/255.0,\twidth_shift_range=0.1, height_shift_range=0.1, horizontal_flip=True)\n",
        "test_datagen = ImageDataGenerator(rescale=1.0/255.0)\n",
        "val_datagen = ImageDataGenerator(rescale=1.0/255.0,width_shift_range=0.1, height_shift_range=0.1, horizontal_flip=True)\n",
        "# prepare iterators\n",
        "train_it = train_datagen.flow_from_directory('/content/drive/My Drive/MemeClassifier/Data/train',class_mode='binary', batch_size=16, target_size=(160, 160))\n",
        "val_it = val_datagen.flow_from_directory('/content/drive/My Drive/MemeClassifier/Data/validation',class_mode='binary', batch_size=16, target_size=(160, 160))\n",
        "# load and iterate test dataset\n",
        "test_it = test_datagen.flow_from_directory('/content/drive/My Drive/MemeClassifier/Data/test', class_mode='binary', batch_size=16, target_size=(160, 160))"
      ],
      "execution_count": 3,
      "outputs": [
        {
          "output_type": "stream",
          "text": [
            "Found 3404 images belonging to 2 classes.\n",
            "Found 1033 images belonging to 2 classes.\n",
            "Found 505 images belonging to 2 classes.\n"
          ],
          "name": "stdout"
        }
      ]
    },
    {
      "cell_type": "markdown",
      "metadata": {
        "id": "ysr5eRtpPTPu",
        "colab_type": "text"
      },
      "source": [
        "***Step 5: Model***"
      ]
    },
    {
      "cell_type": "code",
      "metadata": {
        "id": "XxvwvQ1ZPbWt",
        "colab_type": "code",
        "colab": {
          "base_uri": "https://localhost:8080/",
          "height": 323
        },
        "outputId": "2c118838-4078-4bd8-cb3d-72f81a2316ca"
      },
      "source": [
        "#transfer learning using MobileNet_V2\n",
        "model_mobilenet_v2 = tf.keras.applications.MobileNetV2(input_shape=(160,160,3) ,include_top=False, weights='imagenet')\n",
        "\n",
        "model = tf.keras.Sequential()\n",
        "\n",
        "#freezing mobilenet_v2 layers (saving its original weights)\n",
        "model_mobilenet_v2.trainable = False\n",
        "#copy mobilenet_v2 layers into our model\n",
        "model.add(model_mobilenet_v2)\n",
        "#Adding our own layers\n",
        "model.add(tf.keras.layers.GlobalAveragePooling2D())  # this converts our 3D feature maps to 1D feature vectors\n",
        "model.add(tf.keras.layers.Dense(128 , activation='relu'))\n",
        "model.add(tf.keras.layers.Dropout(0.5))\n",
        "model.add(tf.keras.layers.Dense(1 , activation='sigmoid'))\n",
        "\n",
        "model.compile(optimizer='Adam', metrics=['accuracy'], loss='binary_crossentropy')\n",
        "\n",
        "model.summary()"
      ],
      "execution_count": 4,
      "outputs": [
        {
          "output_type": "stream",
          "text": [
            "Model: \"sequential\"\n",
            "_________________________________________________________________\n",
            "Layer (type)                 Output Shape              Param #   \n",
            "=================================================================\n",
            "mobilenetv2_1.00_160 (Model) (None, 5, 5, 1280)        2257984   \n",
            "_________________________________________________________________\n",
            "global_average_pooling2d (Gl (None, 1280)              0         \n",
            "_________________________________________________________________\n",
            "dense (Dense)                (None, 128)               163968    \n",
            "_________________________________________________________________\n",
            "dropout (Dropout)            (None, 128)               0         \n",
            "_________________________________________________________________\n",
            "dense_1 (Dense)              (None, 1)                 129       \n",
            "=================================================================\n",
            "Total params: 2,422,081\n",
            "Trainable params: 164,097\n",
            "Non-trainable params: 2,257,984\n",
            "_________________________________________________________________\n"
          ],
          "name": "stdout"
        }
      ]
    },
    {
      "cell_type": "markdown",
      "metadata": {
        "id": "c2ADHn6DPf14",
        "colab_type": "text"
      },
      "source": [
        "***Step 6: Training***"
      ]
    },
    {
      "cell_type": "code",
      "metadata": {
        "id": "7n9GAUgMQ128",
        "colab_type": "code",
        "colab": {
          "base_uri": "https://localhost:8080/",
          "height": 221
        },
        "outputId": "59433ef7-8508-491e-ad06-c4414184ca2b"
      },
      "source": [
        "early_stop = EarlyStopping(monitor='val_loss',patience=5)\n",
        "#train/validate model\n",
        "history = model.fit(train_it, epochs=10, validation_data=val_it , verbose=1,callbacks = [early_stop])"
      ],
      "execution_count": 6,
      "outputs": [
        {
          "output_type": "stream",
          "text": [
            "Epoch 1/10\n",
            "213/213 [==============================] - 97s 454ms/step - loss: 0.1559 - accuracy: 0.9386 - val_loss: 0.1420 - val_accuracy: 0.9574\n",
            "Epoch 2/10\n",
            "213/213 [==============================] - 88s 415ms/step - loss: 0.1247 - accuracy: 0.9515 - val_loss: 0.2375 - val_accuracy: 0.9109\n",
            "Epoch 3/10\n",
            "213/213 [==============================] - 89s 416ms/step - loss: 0.1195 - accuracy: 0.9562 - val_loss: 0.1636 - val_accuracy: 0.9419\n",
            "Epoch 4/10\n",
            "213/213 [==============================] - 91s 426ms/step - loss: 0.1063 - accuracy: 0.9624 - val_loss: 0.1699 - val_accuracy: 0.9380\n",
            "Epoch 5/10\n",
            "213/213 [==============================] - 90s 421ms/step - loss: 0.0882 - accuracy: 0.9700 - val_loss: 0.1424 - val_accuracy: 0.9468\n",
            "Epoch 6/10\n",
            "213/213 [==============================] - 89s 419ms/step - loss: 0.0932 - accuracy: 0.9621 - val_loss: 0.2270 - val_accuracy: 0.9313\n"
          ],
          "name": "stdout"
        }
      ]
    },
    {
      "cell_type": "markdown",
      "metadata": {
        "id": "QOoGI7F4ocIK",
        "colab_type": "text"
      },
      "source": [
        "***Step 7: Visualization***"
      ]
    },
    {
      "cell_type": "code",
      "metadata": {
        "id": "1dNfrVhFoh2v",
        "colab_type": "code",
        "colab": {
          "base_uri": "https://localhost:8080/",
          "height": 499
        },
        "outputId": "d2a009a0-4750-4cb6-ca93-04027bbecdf7"
      },
      "source": [
        "acc = history.history['accuracy']\n",
        "val_acc = history.history['val_accuracy']\n",
        "\n",
        "loss = history.history['loss']\n",
        "val_loss = history.history['val_loss']\n",
        "\n",
        "plt.figure(figsize=(8, 8))\n",
        "plt.subplot(2, 1, 1)\n",
        "plt.plot(acc, label='Training Accuracy')\n",
        "plt.plot(val_acc, label='Validation Accuracy')\n",
        "plt.legend(loc='lower right')\n",
        "plt.ylabel('Accuracy')\n",
        "plt.ylim([min(plt.ylim()),1])\n",
        "plt.title('Training and Validation Accuracy')\n",
        "\n",
        "plt.subplot(2, 1, 2)\n",
        "plt.plot(loss, label='Training Loss')\n",
        "plt.plot(val_loss, label='Validation Loss')\n",
        "plt.legend(loc='upper right')\n",
        "plt.ylabel('Cross Entropy')\n",
        "plt.ylim([0,max(plt.ylim())])\n",
        "plt.title('Training and Validation Loss')\n",
        "plt.show()"
      ],
      "execution_count": 7,
      "outputs": [
        {
          "output_type": "display_data",
          "data": {
            "image/png": "[encoded data removed]",
            "text/plain": [
              "<Figure size 576x576 with 2 Axes>"
            ]
          },
          "metadata": {
            "tags": [],
            "needs_background": "light"
          }
        }
      ]
    },
    {
      "cell_type": "markdown",
      "metadata": {
        "id": "iW7ILK5NLvfu",
        "colab_type": "text"
      },
      "source": [
        "***Step 8: Prediction***"
      ]
    },
    {
      "cell_type": "code",
      "metadata": {
        "id": "6GmePHDoL0mD",
        "colab_type": "code",
        "colab": {
          "base_uri": "https://localhost:8080/",
          "height": 51
        },
        "outputId": "dafb8ce4-8bf2-4df7-fba6-b7e52f6ffeb1"
      },
      "source": [
        "class_names = sorted(train_it.class_indices.items(), key=lambda pair:pair[1])\n",
        "class_names = np.array([key.title() for key, value in class_names])\n",
        "print (class_names)\n",
        "img = cv2.imread('/content/drive/My Drive/MemeClassifier/Data/test/notmeme/1064.jpg')\n",
        "img = cv2.resize(img,(160,160))\n",
        "img = np.reshape(img,[1,160,160,3])\n",
        "prediction = model.predict(img)\n",
        "predicted_id = np.argmax(prediction, axis=-1)\n",
        "predicted_label_batch = class_names[predicted_id]\n",
        "print (predicted_label_batch)\n",
        "\n",
        "#model.predict(image_path)\n",
        "#print(prediction)"
      ],
      "execution_count": 16,
      "outputs": [
        {
          "output_type": "stream",
          "text": [
            "['Meme' 'Notmeme']\n",
            "['Meme']\n"
          ],
          "name": "stdout"
        }
      ]
    },
    {
      "cell_type": "markdown",
      "metadata": {
        "id": "eii2FCKv9sbf",
        "colab_type": "text"
      },
      "source": [
        "***Step 9 : Save the model and convert it to TF lite model for deploying on mobile phones***"
      ]
    },
    {
      "cell_type": "code",
      "metadata": {
        "id": "aP2Lc-N-9zB1",
        "colab_type": "code",
        "colab": {}
      },
      "source": [
        "#Saving the model\n",
        "'''mymodel = tf.keras.models.save_model(\n",
        "    model, '/content/drive/My Drive/MemeClassifier', overwrite=True, include_optimizer=True)'''\n",
        "\n",
        "#Tf Lite\n",
        "\n",
        "converter = tf.lite.TFLiteConverter.from_keras_model(model)\n",
        "#quantization\n",
        "converter.optimizations = [tf.lite.Optimize.DEFAULT]\n",
        "converter.target_ops = [tf.lite.OpsSet.TFLITE_BUILTINS_INT8]\n",
        "tflite_model = converter.convert()\n",
        "open(\"model2.tflite\", \"wb\").write(tflite_model)"
      ],
      "execution_count": null,
      "outputs": []
    },
    {
      "cell_type": "code",
      "metadata": {
        "id": "UagB7BQ9Mxv4",
        "colab_type": "code",
        "colab": {}
      },
      "source": [
        "!ls"
      ],
      "execution_count": null,
      "outputs": []
    }
  ]
}