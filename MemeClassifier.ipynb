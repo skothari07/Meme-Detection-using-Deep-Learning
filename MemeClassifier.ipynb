{
  "nbformat": 4,
  "nbformat_minor": 0,
  "metadata": {
    "colab": {
      "name": "MemeClassifier.ipynb",
      "provenance": [],
      "collapsed_sections": [],
      "authorship_tag": "ABX9TyOE9qLLBQjfWXcwMhRlojiy",
      "include_colab_link": true
    },
    "kernelspec": {
      "name": "python3",
      "display_name": "Python 3"
    }
  },
  "cells": [
    {
      "cell_type": "markdown",
      "metadata": {
        "id": "view-in-github",
        "colab_type": "text"
      },
      "source": [
        "<a href=\"https://colab.research.google.com/github/skothari07/MemeClassifier/blob/master/MemeClassifier.ipynb\" target=\"_parent\"><img src=\"https://colab.research.google.com/assets/colab-badge.svg\" alt=\"Open In Colab\"/></a>"
      ]
    },
    {
      "cell_type": "markdown",
      "metadata": {
        "id": "uW31QFuV1pvJ",
        "colab_type": "text"
      },
      "source": [
        "# ***MEME CLASSIFIER***"
      ]
    },
    {
      "cell_type": "markdown",
      "metadata": {
        "id": "HO-tZEQT151k",
        "colab_type": "text"
      },
      "source": [
        "*Identifies if a image is meme or not using deep learning(CNN).*\n"
      ]
    },
    {
      "cell_type": "markdown",
      "metadata": {
        "id": "3OehWs9v2abA",
        "colab_type": "text"
      },
      "source": [
        "***Step 1: Importing dependencies***"
      ]
    },
    {
      "cell_type": "code",
      "metadata": {
        "id": "htCD-mv62lun",
        "colab_type": "code",
        "colab": {}
      },
      "source": [
        "import numpy as np\n",
        "import pandas as pd\n",
        "%matplotlib inline\n",
        "import matplotlib.pyplot as plt\n",
        "\n",
        "import cv2\n",
        "from PIL import Image\n",
        "\n",
        "import os\n",
        "from os.path import exists, join\n",
        "import shutil\n",
        "import random\n",
        "\n",
        "from sklearn.model_selection import train_test_split\n",
        "from keras.models import Sequential\n",
        "from keras import optimizers\n",
        "from keras.utils import np_utils\n",
        "from keras import layers\n",
        "from keras.optimizers import Adam\n",
        "from keras.preprocessing.image import ImageDataGenerator, array_to_img, img_to_array, load_img\n",
        "from keras.layers import Dense, Conv2D, Embedding, Activation, MaxPooling2D, Dropout\n",
        "from keras.layers import Flatten, ZeroPadding2D, BatchNormalization\n",
        "from keras.applications import mobilenet_v2\n",
        "from keras.preprocessing import image\n",
        "\n",
        "import tensorflow as tf\n",
        "\n",
        "from keras.callbacks import TensorBoard,ModelCheckpoint\n",
        "# Load the TensorBoard notebook extension\n",
        "%load_ext tensorboard"
      ],
      "execution_count": 0,
      "outputs": []
    },
    {
      "cell_type": "markdown",
      "metadata": {
        "id": "aXvkPLOUCG32",
        "colab_type": "text"
      },
      "source": [
        "***Step 2: Mounting our google drive to get data***\n"
      ]
    },
    {
      "cell_type": "code",
      "metadata": {
        "id": "vT2DhAvX3WXV",
        "colab_type": "code",
        "colab": {}
      },
      "source": [
        "from google.colab import drive\n",
        "drive.mount('/content/drive')\n",
        "\n",
        "#changing directory to working directory\n",
        "os.chdir(\"/content/drive/My Drive/MemeClassifier/Data\")"
      ],
      "execution_count": 0,
      "outputs": []
    },
    {
      "cell_type": "markdown",
      "metadata": {
        "id": "nBETReQWDZ5n",
        "colab_type": "text"
      },
      "source": [
        "**Step 3: Data Pre-processing**"
      ]
    },
    {
      "cell_type": "markdown",
      "metadata": {
        "id": "munKkIHrE--P",
        "colab_type": "text"
      },
      "source": [
        ""
      ]
    }
  ]
}