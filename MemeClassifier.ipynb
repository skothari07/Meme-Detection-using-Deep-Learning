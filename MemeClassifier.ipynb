{
  "nbformat": 4,
  "nbformat_minor": 0,
  "metadata": {
    "colab": {
      "name": "MemeClassifier.ipynb",
      "provenance": [],
      "collapsed_sections": [],
      "authorship_tag": "ABX9TyMq8DwjVZJl4OhcPa2Hir/z",
      "include_colab_link": true
    },
    "kernelspec": {
      "name": "python3",
      "display_name": "Python 3"
    },
    "accelerator": "GPU"
  },
  "cells": [
    {
      "cell_type": "markdown",
      "metadata": {
        "id": "view-in-github",
        "colab_type": "text"
      },
      "source": [
        "<a href=\"https://colab.research.google.com/github/skothari07/MemeClassifier/blob/master/MemeClassifier.ipynb\" target=\"_parent\"><img src=\"https://colab.research.google.com/assets/colab-badge.svg\" alt=\"Open In Colab\"/></a>"
      ]
    },
    {
      "cell_type": "markdown",
      "metadata": {
        "id": "uW31QFuV1pvJ",
        "colab_type": "text"
      },
      "source": [
        "# ***MEME VS NON-MEME CLASSIFIER***"
      ]
    },
    {
      "cell_type": "markdown",
      "metadata": {
        "id": "HO-tZEQT151k",
        "colab_type": "text"
      },
      "source": [
        "*Identifies if a image is meme or not using deep learning(CNN).*\n"
      ]
    },
    {
      "cell_type": "markdown",
      "metadata": {
        "id": "3OehWs9v2abA",
        "colab_type": "text"
      },
      "source": [
        "***Step 1: Importing dependencies***"
      ]
    },
    {
      "cell_type": "code",
      "metadata": {
        "id": "htCD-mv62lun",
        "colab_type": "code",
        "colab": {
          "base_uri": "https://localhost:8080/",
          "height": 34
        },
        "outputId": "553da5f6-0d1a-4b14-d888-8d8239f8e2c7"
      },
      "source": [
        "import numpy as np\n",
        "import pandas as pd\n",
        "%matplotlib inline\n",
        "import matplotlib.pyplot as plt\n",
        "\n",
        "import cv2\n",
        "from PIL import Image\n",
        "\n",
        "import os\n",
        "from os.path import exists, join\n",
        "import shutil\n",
        "import random\n",
        "\n",
        "from tensorflow.keras.models import Sequential\n",
        "from tensorflow.keras import optimizers\n",
        "from tensorflow.keras import layers\n",
        "from tensorflow.keras.optimizers import Adam\n",
        "from tensorflow.keras.losses import binary_crossentropy\n",
        "from tensorflow.keras.preprocessing.image import ImageDataGenerator, array_to_img, img_to_array, load_img\n",
        "from tensorflow.keras.layers import Dense, Conv2D, Embedding, Activation, MaxPooling2D, Dropout\n",
        "from tensorflow.keras.layers import Flatten, ZeroPadding2D, BatchNormalization\n",
        "from tensorflow.keras.applications import mobilenet_v2\n",
        "from tensorflow.keras.preprocessing import image\n",
        "from tensorflow.keras.callbacks import EarlyStopping\n",
        "import tensorflow as tf\n",
        "\n",
        "from keras.callbacks import TensorBoard,ModelCheckpoint\n",
        "# Load the TensorBoard notebook extension\n",
        "%reload_ext tensorboard"
      ],
      "execution_count": 1,
      "outputs": [
        {
          "output_type": "stream",
          "text": [
            "Using TensorFlow backend.\n"
          ],
          "name": "stderr"
        }
      ]
    },
    {
      "cell_type": "markdown",
      "metadata": {
        "id": "aXvkPLOUCG32",
        "colab_type": "text"
      },
      "source": [
        "***Step 2: Mounting our google drive to get data***\n"
      ]
    },
    {
      "cell_type": "code",
      "metadata": {
        "id": "vT2DhAvX3WXV",
        "colab_type": "code",
        "colab": {
          "base_uri": "https://localhost:8080/",
          "height": 34
        },
        "outputId": "d6f67788-ab1e-494a-c8c7-16be3e4211b8"
      },
      "source": [
        "import zipfile\n",
        "from google.colab import drive\n",
        "drive.mount('/content/drive', force_remount= True)\n",
        "\n",
        "#used to unzip our folders containing memes and non memes\n",
        "'''zip_ref = zipfile.ZipFile(\"/content/drive/My Drive/MemeClassifier/Data/memes.zip\", 'r')\n",
        "zip_ref.extractall(\"/content/drive/My Drive/MemeClassifier/Data\")\n",
        "zip_ref.close()\n",
        "zip_ref1 = zipfile.ZipFile(\"/content/drive/My Drive/MemeClassifier/Data/nonmemenew.zip\", 'r')\n",
        "zip_ref1.extractall(\"/content/drive/My Drive/MemeClassifier/Data\")\n",
        "zip_ref1.close()'''\n",
        "#changing directory to working directory\n",
        "os.chdir(\"/content/drive/My Drive/MemeClassifier/Data\")"
      ],
      "execution_count": 2,
      "outputs": [
        {
          "output_type": "stream",
          "text": [
            "Mounted at /content/drive\n"
          ],
          "name": "stdout"
        }
      ]
    },
    {
      "cell_type": "markdown",
      "metadata": {
        "id": "nBETReQWDZ5n",
        "colab_type": "text"
      },
      "source": [
        "**Step 3: Data Splitting into train,test,validate**"
      ]
    },
    {
      "cell_type": "code",
      "metadata": {
        "id": "fD_E1dN6q98R",
        "colab_type": "code",
        "colab": {}
      },
      "source": [
        "#creating directories : train , test , validate\n",
        "#meme_dir = '/content/drive/My Drive/MemeClassifier/Data/memes'\n",
        "#notmeme_dir = '/content/drive/My Drive/MemeClassifier/Data/notmemes'\n",
        "base_dir = '/content/drive/My Drive/MemeClassifier/Data'\n",
        "if not os.path.exists(base_dir):\n",
        "    os.mkdir(base_dir)\n",
        "\n",
        "# Create directories\n",
        "train_dir = os.path.join(base_dir,'train')\n",
        "if not os.path.exists(train_dir):\n",
        "    os.mkdir(train_dir)\n",
        "validation_dir = os.path.join(base_dir,'validation')\n",
        "if not os.path.exists(validation_dir):\n",
        "    os.mkdir(validation_dir)\n",
        "test_dir = os.path.join(base_dir,'test')\n",
        "if not os.path.exists(test_dir):\n",
        "    os.mkdir(test_dir)\n",
        "\n",
        "train_memes_dir = os.path.join(train_dir,'meme')\n",
        "if not os.path.exists(train_memes_dir):\n",
        "    os.mkdir(train_memes_dir)\n",
        "\n",
        "train_notmemes_dir = os.path.join(train_dir,'notmeme')\n",
        "if not os.path.exists(train_notmemes_dir):\n",
        "    os.mkdir(train_notmemes_dir)\n",
        "\n",
        "validation_memes_dir = os.path.join(validation_dir,'meme')\n",
        "if not os.path.exists(validation_memes_dir):\n",
        "    os.mkdir(validation_memes_dir)\n",
        "\n",
        "validation_notmemes_dir = os.path.join(validation_dir, 'notmeme')\n",
        "if not os.path.exists(validation_notmemes_dir):\n",
        "    os.mkdir(validation_notmemes_dir)\n",
        "\n",
        "test_memes_dir = os.path.join(test_dir, 'meme')     \n",
        "if not os.path.exists(test_memes_dir):\n",
        "    os.mkdir(test_memes_dir)\n",
        "\n",
        "test_notmemes_dir = os.path.join(test_dir, 'notmeme')\n",
        "if not os.path.exists(test_notmemes_dir):\n",
        "    os.mkdir(test_notmemes_dir)\n",
        "\n",
        "#split data\n",
        "#this is used if we have data in .csv file . Not used in this case\n",
        "'''\n",
        "#Meme \n",
        "meme_files = [array of meme images]\n",
        "meme_files.sort()  # make sure that the filenames have a fixed order before shuffling\n",
        "random.seed(230)\n",
        "random.shuffle(meme_files) # shuffles the ordering of filenames (deterministic given the chosen seed)\n",
        "\n",
        "split_1 = int(0.8 * len(meme_files))\n",
        "split_2 = int(0.9 * len(meme_files))\n",
        "train_meme_files = meme_files[:split_1]\n",
        "validate_meme_files = meme_files[split_1:split_2]\n",
        "test_meme_files = meme_files[split_2:]\n",
        "\n",
        "#Not-meme\n",
        "notmeme_files = [array of non meme images]\n",
        "notmeme_files.sort()  # make sure that the filenames have a fixed order before shuffling\n",
        "random.seed(230)\n",
        "random.shuffle(notmeme_files) # shuffles the ordering of filenames (deterministic given the chosen seed)\n",
        "\n",
        "split_12 = int(0.8 * len(notmeme_files))\n",
        "split_22 = int(0.9 * len(nonmeme_files))\n",
        "train_nonmeme_files = nonmeme_files[:split_12]\n",
        "validate_nonmeme_files = nonmeme_files[split_12:split_22]\n",
        "test_nonmeme_files = nonmeme_files[split_22:]\n",
        "'''"
      ],
      "execution_count": null,
      "outputs": []
    },
    {
      "cell_type": "markdown",
      "metadata": {
        "id": "f4L8nqlL5ZdG",
        "colab_type": "text"
      },
      "source": [
        "***Step 4: Preparing data (Data pre-processing)***"
      ]
    },
    {
      "cell_type": "code",
      "metadata": {
        "colab_type": "code",
        "id": "gxhxSQ1nubPX",
        "colab": {
          "base_uri": "https://localhost:8080/",
          "height": 67
        },
        "outputId": "2761db23-172a-4c25-c029-2dc772a078af"
      },
      "source": [
        "# create data generators\n",
        "train_datagen = ImageDataGenerator(rescale=1.0/255.0,\twidth_shift_range=0.1, height_shift_range=0.1, horizontal_flip=True)\n",
        "test_datagen = ImageDataGenerator(rescale=1.0/255.0)\n",
        "val_datagen = ImageDataGenerator(rescale=1.0/255.0,width_shift_range=0.1, height_shift_range=0.1, horizontal_flip=True)\n",
        "# prepare iterators\n",
        "train_it = train_datagen.flow_from_directory('/content/drive/My Drive/MemeClassifier/Data/train',class_mode='binary', batch_size=16, target_size=(160, 160))\n",
        "val_it = val_datagen.flow_from_directory('/content/drive/My Drive/MemeClassifier/Data/validation',class_mode='binary', batch_size=16, target_size=(160, 160))\n",
        "# load and iterate test dataset\n",
        "test_it = test_datagen.flow_from_directory('/content/drive/My Drive/MemeClassifier/Data/test', class_mode='binary', batch_size=16, target_size=(160, 160))"
      ],
      "execution_count": 3,
      "outputs": [
        {
          "output_type": "stream",
          "text": [
            "Found 3404 images belonging to 2 classes.\n",
            "Found 1033 images belonging to 2 classes.\n",
            "Found 505 images belonging to 2 classes.\n"
          ],
          "name": "stdout"
        }
      ]
    },
    {
      "cell_type": "markdown",
      "metadata": {
        "id": "ysr5eRtpPTPu",
        "colab_type": "text"
      },
      "source": [
        "***Step 5: Model***"
      ]
    },
    {
      "cell_type": "code",
      "metadata": {
        "id": "XxvwvQ1ZPbWt",
        "colab_type": "code",
        "colab": {
          "base_uri": "https://localhost:8080/",
          "height": 319
        },
        "outputId": "f2f9b9e6-7984-4924-9964-fdcbf8f03108"
      },
      "source": [
        "#transfer learning using MobileNet_V2\n",
        "model_mobilenet_v2 = tf.keras.applications.MobileNetV2(input_shape=(160,160,3) ,include_top=False, weights='imagenet')\n",
        "\n",
        "model = tf.keras.Sequential()\n",
        "\n",
        "#freezing mobilenet_v2 layers (saving its original weights)\n",
        "model_mobilenet_v2.trainable = False\n",
        "#copy mobilenet_v2 layers into our model\n",
        "model.add(model_mobilenet_v2)\n",
        "#Adding our own layers\n",
        "model.add(tf.keras.layers.GlobalAveragePooling2D())  # this converts our 3D feature maps to 1D feature vectors\n",
        "model.add(tf.keras.layers.Dense(128 , activation='relu'))\n",
        "model.add(tf.keras.layers.Dropout(0.5))\n",
        "model.add(tf.keras.layers.Dense(1 , activation='sigmoid'))\n",
        "\n",
        "model.compile(optimizer='Adam', metrics=['accuracy'], loss='binary_crossentropy')\n",
        "\n",
        "model.summary()"
      ],
      "execution_count": 13,
      "outputs": [
        {
          "output_type": "stream",
          "text": [
            "Model: \"sequential_1\"\n",
            "_________________________________________________________________\n",
            "Layer (type)                 Output Shape              Param #   \n",
            "=================================================================\n",
            "mobilenetv2_1.00_160 (Model) (None, 5, 5, 1280)        2257984   \n",
            "_________________________________________________________________\n",
            "global_average_pooling2d_1 ( (None, 1280)              0         \n",
            "_________________________________________________________________\n",
            "dense_2 (Dense)              (None, 128)               163968    \n",
            "_________________________________________________________________\n",
            "dropout_1 (Dropout)          (None, 128)               0         \n",
            "_________________________________________________________________\n",
            "dense_3 (Dense)              (None, 1)                 129       \n",
            "=================================================================\n",
            "Total params: 2,422,081\n",
            "Trainable params: 164,097\n",
            "Non-trainable params: 2,257,984\n",
            "_________________________________________________________________\n"
          ],
          "name": "stdout"
        }
      ]
    },
    {
      "cell_type": "markdown",
      "metadata": {
        "id": "c2ADHn6DPf14",
        "colab_type": "text"
      },
      "source": [
        "***Step 6: Training***"
      ]
    },
    {
      "cell_type": "code",
      "metadata": {
        "id": "7n9GAUgMQ128",
        "colab_type": "code",
        "colab": {
          "base_uri": "https://localhost:8080/",
          "height": 353
        },
        "outputId": "6284fd56-3715-40f2-b494-ea0d69dbdd59"
      },
      "source": [
        "early_stop = EarlyStopping(monitor='val_loss',patience=5)\n",
        "#train/validate model\n",
        "history = model.fit(train_it, epochs=20, validation_data=val_it , verbose=1,callbacks = [early_stop])"
      ],
      "execution_count": 14,
      "outputs": [
        {
          "output_type": "stream",
          "text": [
            "Epoch 1/20\n",
            "213/213 [==============================] - 76s 357ms/step - loss: 0.2334 - accuracy: 0.9078 - val_loss: 0.1815 - val_accuracy: 0.9303\n",
            "Epoch 2/20\n",
            "213/213 [==============================] - 76s 358ms/step - loss: 0.1556 - accuracy: 0.9430 - val_loss: 0.1460 - val_accuracy: 0.9497\n",
            "Epoch 3/20\n",
            "213/213 [==============================] - 76s 358ms/step - loss: 0.1341 - accuracy: 0.9498 - val_loss: 0.2221 - val_accuracy: 0.9226\n",
            "Epoch 4/20\n",
            "213/213 [==============================] - 76s 357ms/step - loss: 0.1100 - accuracy: 0.9600 - val_loss: 0.2278 - val_accuracy: 0.9197\n",
            "Epoch 5/20\n",
            "213/213 [==============================] - 75s 352ms/step - loss: 0.1099 - accuracy: 0.9551 - val_loss: 0.1363 - val_accuracy: 0.9497\n",
            "Epoch 6/20\n",
            "213/213 [==============================] - 75s 351ms/step - loss: 0.0843 - accuracy: 0.9665 - val_loss: 0.1503 - val_accuracy: 0.9468\n",
            "Epoch 7/20\n",
            "213/213 [==============================] - 75s 351ms/step - loss: 0.0864 - accuracy: 0.9671 - val_loss: 0.1752 - val_accuracy: 0.9409\n",
            "Epoch 8/20\n",
            "213/213 [==============================] - 74s 347ms/step - loss: 0.0842 - accuracy: 0.9694 - val_loss: 0.1451 - val_accuracy: 0.9439\n",
            "Epoch 9/20\n",
            "213/213 [==============================] - 73s 341ms/step - loss: 0.0671 - accuracy: 0.9739 - val_loss: 0.2195 - val_accuracy: 0.9351\n",
            "Epoch 10/20\n",
            "213/213 [==============================] - 73s 341ms/step - loss: 0.0660 - accuracy: 0.9750 - val_loss: 0.1792 - val_accuracy: 0.9429\n"
          ],
          "name": "stdout"
        }
      ]
    },
    {
      "cell_type": "markdown",
      "metadata": {
        "id": "QOoGI7F4ocIK",
        "colab_type": "text"
      },
      "source": [
        "***Step 7: Visualization***"
      ]
    },
    {
      "cell_type": "code",
      "metadata": {
        "id": "1dNfrVhFoh2v",
        "colab_type": "code",
        "colab": {
          "base_uri": "https://localhost:8080/",
          "height": 499
        },
        "outputId": "d069abc6-1022-4d83-8f9d-5ab4bca2ba49"
      },
      "source": [
        "acc = history.history['accuracy']\n",
        "val_acc = history.history['val_accuracy']\n",
        "\n",
        "loss = history.history['loss']\n",
        "val_loss = history.history['val_loss']\n",
        "\n",
        "plt.figure(figsize=(8, 8))\n",
        "plt.subplot(2, 1, 1)\n",
        "plt.plot(acc, label='Training Accuracy')\n",
        "plt.plot(val_acc, label='Validation Accuracy')\n",
        "plt.legend(loc='lower right')\n",
        "plt.ylabel('Accuracy')\n",
        "plt.ylim([min(plt.ylim()),1])\n",
        "plt.title('Training and Validation Accuracy')\n",
        "\n",
        "plt.subplot(2, 1, 2)\n",
        "plt.plot(loss, label='Training Loss')\n",
        "plt.plot(val_loss, label='Validation Loss')\n",
        "plt.legend(loc='upper right')\n",
        "plt.ylabel('Cross Entropy')\n",
        "plt.ylim([0,max(plt.ylim())])\n",
        "plt.title('Training and Validation Loss')\n",
        "plt.show()"
      ],
      "execution_count": 25,
      "outputs": [
        {
          "output_type": "display_data",
          "data": {
            "image/png": "[encoded data removed]",
            "text/plain": [
              "<Figure size 576x576 with 2 Axes>"
            ]
          },
          "metadata": {
            "tags": [],
            "needs_background": "light"
          }
        }
      ]
    },
    {
      "cell_type": "markdown",
      "metadata": {
        "id": "iW7ILK5NLvfu",
        "colab_type": "text"
      },
      "source": [
        "***Step 8: Prediction***"
      ]
    },
    {
      "cell_type": "code",
      "metadata": {
        "id": "6GmePHDoL0mD",
        "colab_type": "code",
        "colab": {
          "base_uri": "https://localhost:8080/",
          "height": 34
        },
        "outputId": "62994e88-51de-44b3-fbd5-f33fc5f36f3a"
      },
      "source": [
        "img = cv2.imread('/content/drive/My Drive/MemeClassifier/Data/test/meme/6ys8ot.jpg')\n",
        "img = cv2.resize(img,(160,160))\n",
        "img = np.reshape(img,[1,160,160,3])\n",
        "\n",
        "predicted_class = model.predict_classes(img)\n",
        "print (predicted_class)\n",
        "\n",
        "#model.predict(image_path)\n",
        "#print(prediction)"
      ],
      "execution_count": 24,
      "outputs": [
        {
          "output_type": "stream",
          "text": [
            "[[0]]\n"
          ],
          "name": "stdout"
        }
      ]
    },
    {
      "cell_type": "markdown",
      "metadata": {
        "id": "eii2FCKv9sbf",
        "colab_type": "text"
      },
      "source": [
        "***Step 9 : Save the model and convert it to TF lite model for deploying on mobile phones***"
      ]
    },
    {
      "cell_type": "code",
      "metadata": {
        "id": "aP2Lc-N-9zB1",
        "colab_type": "code",
        "colab": {
          "base_uri": "https://localhost:8080/",
          "height": 67
        },
        "outputId": "6a148d5a-69f4-46b6-8bd6-879c8e20b5a8"
      },
      "source": [
        "#Saving the model\n",
        "mymodel = tf.keras.models.save_model(\n",
        "    model, '/content/drive/My Drive/MemeClassifier', overwrite=True, include_optimizer=True)\n",
        "\n",
        "#Tf Lite\n",
        "converter = tf.lite.TFLiteConverter.from_keras_model(model)\n",
        "tflite_model = converter.convert()\n",
        "open(\"converted_model.tflite\", \"wb\").write(tflite_model)"
      ],
      "execution_count": 30,
      "outputs": [
        {
          "output_type": "stream",
          "text": [
            "INFO:tensorflow:Assets written to: /content/drive/My Drive/MemeClassifier/assets\n"
          ],
          "name": "stdout"
        },
        {
          "output_type": "stream",
          "text": [
            "INFO:tensorflow:Assets written to: /content/drive/My Drive/MemeClassifier/assets\n"
          ],
          "name": "stderr"
        },
        {
          "output_type": "execute_result",
          "data": {
            "text/plain": [
              "9504268"
            ]
          },
          "metadata": {
            "tags": []
          },
          "execution_count": 30
        }
      ]
    },
    {
      "cell_type": "code",
      "metadata": {
        "id": "UagB7BQ9Mxv4",
        "colab_type": "code",
        "colab": {
          "base_uri": "https://localhost:8080/",
          "height": 50
        },
        "outputId": "af3a117f-20ef-4dc8-fc1b-ac39c78f2d87"
      },
      "source": [
        "!ls"
      ],
      "execution_count": 31,
      "outputs": [
        {
          "output_type": "stream",
          "text": [
            "converted_model.tflite\tnonmemenew.zip\ttest   validation\n",
            "memes.zip\t\tnotmemes.zip\ttrain\n"
          ],
          "name": "stdout"
        }
      ]
    }
  ]
}