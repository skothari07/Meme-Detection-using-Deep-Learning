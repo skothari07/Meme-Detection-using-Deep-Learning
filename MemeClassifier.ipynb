{
  "nbformat": 4,
  "nbformat_minor": 0,
  "metadata": {
    "colab": {
      "name": "MemeClassifier.ipynb",
      "provenance": [],
      "collapsed_sections": [],
      "authorship_tag": "ABX9TyMs1V4kWAzZe1lqNf7Hsv08",
      "include_colab_link": true
    },
    "kernelspec": {
      "name": "python3",
      "display_name": "Python 3"
    }
  },
  "cells": [
    {
      "cell_type": "markdown",
      "metadata": {
        "id": "view-in-github",
        "colab_type": "text"
      },
      "source": [
        "<a href=\"https://colab.research.google.com/github/skothari07/MemeClassifier/blob/master/MemeClassifier.ipynb\" target=\"_parent\"><img src=\"https://colab.research.google.com/assets/colab-badge.svg\" alt=\"Open In Colab\"/></a>"
      ]
    },
    {
      "cell_type": "markdown",
      "metadata": {
        "id": "uW31QFuV1pvJ",
        "colab_type": "text"
      },
      "source": [
        "# ***MEME VS NON-MEME CLASSIFIER***"
      ]
    },
    {
      "cell_type": "markdown",
      "metadata": {
        "id": "HO-tZEQT151k",
        "colab_type": "text"
      },
      "source": [
        "*Identifies if a image is meme or not using deep learning(CNN).*\n"
      ]
    },
    {
      "cell_type": "markdown",
      "metadata": {
        "id": "3OehWs9v2abA",
        "colab_type": "text"
      },
      "source": [
        "***Step 1: Importing dependencies***"
      ]
    },
    {
      "cell_type": "code",
      "metadata": {
        "id": "htCD-mv62lun",
        "colab_type": "code",
        "outputId": "04edc04b-13bb-4a86-b0be-f81cedf6c2a8",
        "colab": {
          "base_uri": "https://localhost:8080/",
          "height": 34
        }
      },
      "source": [
        "import numpy as np\n",
        "import pandas as pd\n",
        "%matplotlib inline\n",
        "import matplotlib.pyplot as plt\n",
        "\n",
        "import cv2\n",
        "from PIL import Image\n",
        "\n",
        "import os\n",
        "from os.path import exists, join\n",
        "import shutil\n",
        "import random\n",
        "\n",
        "from tensorflow.keras.models import Sequential\n",
        "from tensorflow.keras import optimizers\n",
        "from tensorflow.keras import layers\n",
        "from tensorflow.keras.optimizers import Adam\n",
        "from tensorflow.keras.losses import binary_crossentropy\n",
        "from tensorflow.keras.preprocessing.image import ImageDataGenerator, array_to_img, img_to_array, load_img\n",
        "from tensorflow.keras.layers import Dense, Conv2D, Embedding, Activation, MaxPooling2D, Dropout\n",
        "from tensorflow.keras.layers import Flatten, ZeroPadding2D, BatchNormalization\n",
        "from tensorflow.keras.applications import mobilenet_v2\n",
        "from tensorflow.keras.preprocessing import image\n",
        "from tensorflow.keras.callbacks import EarlyStopping\n",
        "import tensorflow as tf\n",
        "\n",
        "from keras.callbacks import TensorBoard,ModelCheckpoint\n",
        "# Load the TensorBoard notebook extension\n",
        "%reload_ext tensorboard"
      ],
      "execution_count": 0,
      "outputs": [
        {
          "output_type": "stream",
          "text": [
            "Using TensorFlow backend.\n"
          ],
          "name": "stderr"
        }
      ]
    },
    {
      "cell_type": "markdown",
      "metadata": {
        "id": "aXvkPLOUCG32",
        "colab_type": "text"
      },
      "source": [
        "***Step 2: Mounting our google drive to get data***\n"
      ]
    },
    {
      "cell_type": "code",
      "metadata": {
        "id": "vT2DhAvX3WXV",
        "colab_type": "code",
        "outputId": "977dc855-9280-49c5-c8ba-a35d2aed4edc",
        "colab": {
          "base_uri": "https://localhost:8080/",
          "height": 34
        }
      },
      "source": [
        "import zipfile\n",
        "from google.colab import drive\n",
        "drive.mount('/content/drive', force_remount= True)\n",
        "\n",
        "#used to unzip our folders containing memes and non memes\n",
        "'''zip_ref = zipfile.ZipFile(\"/content/drive/My Drive/MemeClassifier/Data/memes.zip\", 'r')\n",
        "zip_ref.extractall(\"/content/drive/My Drive/MemeClassifier/Data\")\n",
        "zip_ref.close()\n",
        "zip_ref1 = zipfile.ZipFile(\"/content/drive/My Drive/MemeClassifier/Data/nonmemenew.zip\", 'r')\n",
        "zip_ref1.extractall(\"/content/drive/My Drive/MemeClassifier/Data\")\n",
        "zip_ref1.close()'''\n",
        "#changing directory to working directory\n",
        "os.chdir(\"/content/drive/My Drive/MemeClassifier/Data\")"
      ],
      "execution_count": 0,
      "outputs": [
        {
          "output_type": "stream",
          "text": [
            "Mounted at /content/drive\n"
          ],
          "name": "stdout"
        }
      ]
    },
    {
      "cell_type": "markdown",
      "metadata": {
        "id": "nBETReQWDZ5n",
        "colab_type": "text"
      },
      "source": [
        "**Step 3: Data Splitting into train,test,validate**"
      ]
    },
    {
      "cell_type": "code",
      "metadata": {
        "id": "fD_E1dN6q98R",
        "colab_type": "code",
        "colab": {}
      },
      "source": [
        "#creating directories : train , test , validate\n",
        "#meme_dir = '/content/drive/My Drive/MemeClassifier/Data/memes'\n",
        "#notmeme_dir = '/content/drive/My Drive/MemeClassifier/Data/notmemes'\n",
        "base_dir = '/content/drive/My Drive/MemeClassifier/Data'\n",
        "if not os.path.exists(base_dir):\n",
        "    os.mkdir(base_dir)\n",
        "\n",
        "# Create directories\n",
        "train_dir = os.path.join(base_dir,'train')\n",
        "if not os.path.exists(train_dir):\n",
        "    os.mkdir(train_dir)\n",
        "validation_dir = os.path.join(base_dir,'validation')\n",
        "if not os.path.exists(validation_dir):\n",
        "    os.mkdir(validation_dir)\n",
        "test_dir = os.path.join(base_dir,'test')\n",
        "if not os.path.exists(test_dir):\n",
        "    os.mkdir(test_dir)\n",
        "\n",
        "train_memes_dir = os.path.join(train_dir,'meme')\n",
        "if not os.path.exists(train_memes_dir):\n",
        "    os.mkdir(train_memes_dir)\n",
        "\n",
        "train_notmemes_dir = os.path.join(train_dir,'notmeme')\n",
        "if not os.path.exists(train_notmemes_dir):\n",
        "    os.mkdir(train_notmemes_dir)\n",
        "\n",
        "validation_memes_dir = os.path.join(validation_dir,'meme')\n",
        "if not os.path.exists(validation_memes_dir):\n",
        "    os.mkdir(validation_memes_dir)\n",
        "\n",
        "validation_notmemes_dir = os.path.join(validation_dir, 'notmeme')\n",
        "if not os.path.exists(validation_notmemes_dir):\n",
        "    os.mkdir(validation_notmemes_dir)\n",
        "\n",
        "test_memes_dir = os.path.join(test_dir, 'meme')     \n",
        "if not os.path.exists(test_memes_dir):\n",
        "    os.mkdir(test_memes_dir)\n",
        "\n",
        "test_notmemes_dir = os.path.join(test_dir, 'notmeme')\n",
        "if not os.path.exists(test_notmemes_dir):\n",
        "    os.mkdir(test_notmemes_dir)\n",
        "\n",
        "#split data\n",
        "#this is used if we have image in .csv file . Not used in this case\n",
        "'''\n",
        "#Meme \n",
        "meme_files = [array of meme images]\n",
        "meme_files.sort()  # make sure that the filenames have a fixed order before shuffling\n",
        "random.seed(230)\n",
        "random.shuffle(meme_files) # shuffles the ordering of filenames (deterministic given the chosen seed)\n",
        "\n",
        "split_1 = int(0.8 * len(meme_files))\n",
        "split_2 = int(0.9 * len(meme_files))\n",
        "train_meme_files = meme_files[:split_1]\n",
        "validate_meme_files = meme_files[split_1:split_2]\n",
        "test_meme_files = meme_files[split_2:]\n",
        "\n",
        "#Not-meme\n",
        "notmeme_files = [array of non meme images]\n",
        "notmeme_files.sort()  # make sure that the filenames have a fixed order before shuffling\n",
        "random.seed(230)\n",
        "random.shuffle(notmeme_files) # shuffles the ordering of filenames (deterministic given the chosen seed)\n",
        "\n",
        "split_12 = int(0.8 * len(notmeme_files))\n",
        "split_22 = int(0.9 * len(nonmeme_files))\n",
        "train_nonmeme_files = nonmeme_files[:split_12]\n",
        "validate_nonmeme_files = nonmeme_files[split_12:split_22]\n",
        "test_nonmeme_files = nonmeme_files[split_22:]\n",
        "'''"
      ],
      "execution_count": 0,
      "outputs": []
    },
    {
      "cell_type": "markdown",
      "metadata": {
        "id": "f4L8nqlL5ZdG",
        "colab_type": "text"
      },
      "source": [
        "***Step 4: Preparing data (Data pre-processing)***"
      ]
    },
    {
      "cell_type": "code",
      "metadata": {
        "colab_type": "code",
        "id": "gxhxSQ1nubPX",
        "outputId": "45508d69-a914-4497-edcb-b4dfdc1bc0f5",
        "colab": {
          "base_uri": "https://localhost:8080/",
          "height": 67
        }
      },
      "source": [
        "# create data generators\n",
        "train_datagen = ImageDataGenerator(rescale=1.0/255.0,\twidth_shift_range=0.1, height_shift_range=0.1, horizontal_flip=True)\n",
        "test_datagen = ImageDataGenerator(rescale=1.0/255.0)\n",
        "val_datagen = ImageDataGenerator(rescale=1.0/255.0,width_shift_range=0.1, height_shift_range=0.1, horizontal_flip=True)\n",
        "# prepare iterators\n",
        "train_it = train_datagen.flow_from_directory('/content/drive/My Drive/MemeClassifier/Data/train',class_mode='binary', batch_size=16, target_size=(150, 150))\n",
        "val_it = val_datagen.flow_from_directory('/content/drive/My Drive/MemeClassifier/Data/validation',class_mode='binary', batch_size=16, target_size=(150, 150))\n",
        "# load and iterate test dataset\n",
        "test_it = test_datagen.flow_from_directory('/content/drive/My Drive/MemeClassifier/Data/test', class_mode='binary', batch_size=16, target_size=(150, 150))"
      ],
      "execution_count": 0,
      "outputs": [
        {
          "output_type": "stream",
          "text": [
            "Found 3456 images belonging to 2 classes.\n",
            "Found 1128 images belonging to 2 classes.\n",
            "Found 550 images belonging to 2 classes.\n"
          ],
          "name": "stdout"
        }
      ]
    },
    {
      "cell_type": "markdown",
      "metadata": {
        "id": "ysr5eRtpPTPu",
        "colab_type": "text"
      },
      "source": [
        "***Step 5: Model***"
      ]
    },
    {
      "cell_type": "code",
      "metadata": {
        "id": "XxvwvQ1ZPbWt",
        "colab_type": "code",
        "outputId": "43d0fb35-8bf9-4895-9fe7-462706e3f7ef",
        "colab": {
          "base_uri": "https://localhost:8080/",
          "height": 336
        }
      },
      "source": [
        "#transfer learning using MobileNet_V2\n",
        "model_mobilenet_v2 = tf.keras.applications.MobileNetV2(input_shape=(150,150,3) ,include_top=False, weights='imagenet')\n",
        "\n",
        "model = tf.keras.Sequential()\n",
        "\n",
        "#freezing mobilenet_v2 layers (saving its original weights)\n",
        "model_mobilenet_v2.trainable = False\n",
        "#copy mobilenet_v2 layers into our model\n",
        "model.add(model_mobilenet_v2)\n",
        "#Adding our own layers\n",
        "model.add(tf.keras.layers.GlobalAveragePooling2D())  # this converts our 3D feature maps to 1D feature vectors\n",
        "model.add(tf.keras.layers.Dense(128 , activation='relu'))\n",
        "model.add(tf.keras.layers.Dropout(0.5))\n",
        "model.add(tf.keras.layers.Dense(1 , activation='sigmoid'))\n",
        "\n",
        "model.compile(optimizer='Adam', metrics=['accuracy'], loss='binary_crossentropy')\n",
        "\n",
        "model.summary()"
      ],
      "execution_count": 0,
      "outputs": [
        {
          "output_type": "stream",
          "text": [
            "WARNING:tensorflow:`input_shape` is undefined or non-square, or `rows` is not in [96, 128, 160, 192, 224]. Weights for input shape (224, 224) will be loaded as the default.\n",
            "Model: \"sequential_2\"\n",
            "_________________________________________________________________\n",
            "Layer (type)                 Output Shape              Param #   \n",
            "=================================================================\n",
            "mobilenetv2_1.00_224 (Model) (None, 5, 5, 1280)        2257984   \n",
            "_________________________________________________________________\n",
            "global_average_pooling2d (Gl (None, 1280)              0         \n",
            "_________________________________________________________________\n",
            "dense_4 (Dense)              (None, 128)               163968    \n",
            "_________________________________________________________________\n",
            "dropout_1 (Dropout)          (None, 128)               0         \n",
            "_________________________________________________________________\n",
            "dense_5 (Dense)              (None, 1)                 129       \n",
            "=================================================================\n",
            "Total params: 2,422,081\n",
            "Trainable params: 164,097\n",
            "Non-trainable params: 2,257,984\n",
            "_________________________________________________________________\n"
          ],
          "name": "stdout"
        }
      ]
    },
    {
      "cell_type": "markdown",
      "metadata": {
        "id": "c2ADHn6DPf14",
        "colab_type": "text"
      },
      "source": [
        "***Step 6: Training***"
      ]
    },
    {
      "cell_type": "code",
      "metadata": {
        "id": "7n9GAUgMQ128",
        "colab_type": "code",
        "outputId": "774a82e3-63d2-4c6e-ae48-2438cff02f98",
        "colab": {
          "base_uri": "https://localhost:8080/",
          "height": 454
        }
      },
      "source": [
        "early_stop = EarlyStopping(monitor='val_loss',patience=5)\n",
        "#train/validate model\n",
        "history = model.fit(train_it, epochs=20, validation_data=val_it , verbose=1,callbacks = [early_stop])"
      ],
      "execution_count": 0,
      "outputs": [
        {
          "output_type": "stream",
          "text": [
            "Epoch 1/20\n",
            "216/216 [==============================] - 159s 734ms/step - loss: 0.2780 - accuracy: 0.8950 - val_loss: 0.3007 - val_accuracy: 0.8785\n",
            "Epoch 2/20\n",
            "216/216 [==============================] - 161s 747ms/step - loss: 0.2075 - accuracy: 0.9219 - val_loss: 0.2344 - val_accuracy: 0.9078\n",
            "Epoch 3/20\n",
            "216/216 [==============================] - 158s 729ms/step - loss: 0.1830 - accuracy: 0.9297 - val_loss: 0.2232 - val_accuracy: 0.9149\n",
            "Epoch 4/20\n",
            "216/216 [==============================] - 158s 731ms/step - loss: 0.1740 - accuracy: 0.9323 - val_loss: 0.2109 - val_accuracy: 0.9167\n",
            "Epoch 5/20\n",
            "216/216 [==============================] - 155s 717ms/step - loss: 0.1652 - accuracy: 0.9387 - val_loss: 0.2804 - val_accuracy: 0.8892\n",
            "Epoch 6/20\n",
            "216/216 [==============================] - 160s 742ms/step - loss: 0.1445 - accuracy: 0.9468 - val_loss: 0.2777 - val_accuracy: 0.8989\n",
            "Epoch 7/20\n",
            "216/216 [==============================] - 158s 733ms/step - loss: 0.1388 - accuracy: 0.9473 - val_loss: 0.2404 - val_accuracy: 0.9140\n",
            "Epoch 8/20\n",
            "216/216 [==============================] - 158s 734ms/step - loss: 0.1287 - accuracy: 0.9470 - val_loss: 0.2019 - val_accuracy: 0.9255\n",
            "Epoch 9/20\n",
            "216/216 [==============================] - 156s 721ms/step - loss: 0.1241 - accuracy: 0.9517 - val_loss: 0.2199 - val_accuracy: 0.9149\n",
            "Epoch 10/20\n",
            "216/216 [==============================] - 160s 740ms/step - loss: 0.1350 - accuracy: 0.9534 - val_loss: 0.2225 - val_accuracy: 0.9140\n",
            "Epoch 11/20\n",
            "216/216 [==============================] - 155s 717ms/step - loss: 0.1144 - accuracy: 0.9563 - val_loss: 0.2494 - val_accuracy: 0.9131\n",
            "Epoch 12/20\n",
            "216/216 [==============================] - 155s 718ms/step - loss: 0.1065 - accuracy: 0.9601 - val_loss: 0.2180 - val_accuracy: 0.9193\n",
            "Epoch 13/20\n",
            "216/216 [==============================] - 155s 716ms/step - loss: 0.1070 - accuracy: 0.9583 - val_loss: 0.2412 - val_accuracy: 0.9051\n"
          ],
          "name": "stdout"
        }
      ]
    },
    {
      "cell_type": "markdown",
      "metadata": {
        "id": "QOoGI7F4ocIK",
        "colab_type": "text"
      },
      "source": [
        "***Step 7: Visualization***"
      ]
    },
    {
      "cell_type": "code",
      "metadata": {
        "id": "1dNfrVhFoh2v",
        "colab_type": "code",
        "outputId": "49c5034f-c190-4ea7-ac84-fb8bbf756ab5",
        "colab": {
          "base_uri": "https://localhost:8080/",
          "height": 499
        }
      },
      "source": [
        "acc = history.history['accuracy']\n",
        "val_acc = history.history['val_accuracy']\n",
        "\n",
        "loss = history.history['loss']\n",
        "val_loss = history.history['val_loss']\n",
        "\n",
        "plt.figure(figsize=(8, 8))\n",
        "plt.subplot(2, 1, 1)\n",
        "plt.plot(acc, label='Training Accuracy')\n",
        "plt.plot(val_acc, label='Validation Accuracy')\n",
        "plt.legend(loc='lower right')\n",
        "plt.ylabel('Accuracy')\n",
        "plt.ylim([min(plt.ylim()),1])\n",
        "plt.title('Training and Validation Accuracy')\n",
        "\n",
        "plt.subplot(2, 1, 2)\n",
        "plt.plot(loss, label='Training Loss')\n",
        "plt.plot(val_loss, label='Validation Loss')\n",
        "plt.legend(loc='upper right')\n",
        "plt.ylabel('Cross Entropy')\n",
        "plt.ylim([0,max(plt.ylim())])\n",
        "plt.title('Training and Validation Loss')\n",
        "plt.show()"
      ],
      "execution_count": 0,
      "outputs": [
        {
          "output_type": "display_data",
          "data": {
            "image/png": "[encoded data removed]",
            "text/plain": [
              "<Figure size 576x576 with 2 Axes>"
            ]
          },
          "metadata": {
            "tags": [],
            "needs_background": "light"
          }
        }
      ]
    },
    {
      "cell_type": "markdown",
      "metadata": {
        "id": "iW7ILK5NLvfu",
        "colab_type": "text"
      },
      "source": [
        "***Step 8: Prediction***"
      ]
    },
    {
      "cell_type": "code",
      "metadata": {
        "id": "6GmePHDoL0mD",
        "colab_type": "code",
        "colab": {}
      },
      "source": [
        "prediction = model.predict(test_it)\n",
        "print(prediction)"
      ],
      "execution_count": 0,
      "outputs": []
    }
  ]
}